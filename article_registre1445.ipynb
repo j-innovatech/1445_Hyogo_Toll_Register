{
  "nbformat": 4,
  "nbformat_minor": 0,
  "metadata": {
    "colab": {
      "provenance": [],
      "toc_visible": true,
      "authorship_tag": "ABX9TyOdEjScVVKOG+meQ0JKTWvk",
      "include_colab_link": true
    },
    "kernelspec": {
      "name": "python3",
      "display_name": "Python 3"
    },
    "language_info": {
      "name": "python"
    }
  },
  "cells": [
    {
      "cell_type": "markdown",
      "metadata": {
        "id": "view-in-github",
        "colab_type": "text"
      },
      "source": [
        "<a href=\"https://colab.research.google.com/github/j-innovatech/registry11445/blob/main/article_registre1445.ipynb\" target=\"_parent\"><img src=\"https://colab.research.google.com/assets/colab-badge.svg\" alt=\"Open In Colab\"/></a>"
      ]
    },
    {
      "cell_type": "markdown",
      "source": [
        "Ce notebook présente les données et traitements relatifs au registre de 1445 pour le projet J-Innovatech.\n",
        "\n",
        "Il s'agit de l'article ... publié dans ... "
      ],
      "metadata": {
        "id": "gFFN3olCOgKs"
      }
    },
    {
      "cell_type": "code",
      "execution_count": null,
      "metadata": {
        "id": "DG0b25zQOaie"
      },
      "outputs": [],
      "source": []
    },
    {
      "cell_type": "markdown",
      "source": [],
      "metadata": {
        "id": "U0mswm11Oe1j"
      }
    }
  ]
}